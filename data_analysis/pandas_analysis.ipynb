{
 "cells": [
  {
   "cell_type": "code",
   "execution_count": 2,
   "metadata": {},
   "outputs": [
    {
     "name": "stderr",
     "output_type": "stream",
     "text": [
      "[nltk_data] Downloading collection 'popular'\n",
      "[nltk_data]    | \n",
      "[nltk_data]    | Downloading package cmudict to\n",
      "[nltk_data]    |     /Users/dan/nltk_data...\n",
      "[nltk_data]    |   Package cmudict is already up-to-date!\n",
      "[nltk_data]    | Downloading package gazetteers to\n",
      "[nltk_data]    |     /Users/dan/nltk_data...\n",
      "[nltk_data]    |   Package gazetteers is already up-to-date!\n",
      "[nltk_data]    | Downloading package genesis to\n",
      "[nltk_data]    |     /Users/dan/nltk_data...\n",
      "[nltk_data]    |   Package genesis is already up-to-date!\n",
      "[nltk_data]    | Downloading package gutenberg to\n",
      "[nltk_data]    |     /Users/dan/nltk_data...\n",
      "[nltk_data]    |   Package gutenberg is already up-to-date!\n",
      "[nltk_data]    | Downloading package inaugural to\n",
      "[nltk_data]    |     /Users/dan/nltk_data...\n",
      "[nltk_data]    |   Package inaugural is already up-to-date!\n",
      "[nltk_data]    | Downloading package movie_reviews to\n",
      "[nltk_data]    |     /Users/dan/nltk_data...\n",
      "[nltk_data]    |   Package movie_reviews is already up-to-date!\n",
      "[nltk_data]    | Downloading package names to /Users/dan/nltk_data...\n",
      "[nltk_data]    |   Package names is already up-to-date!\n",
      "[nltk_data]    | Downloading package shakespeare to\n",
      "[nltk_data]    |     /Users/dan/nltk_data...\n",
      "[nltk_data]    |   Package shakespeare is already up-to-date!\n",
      "[nltk_data]    | Downloading package stopwords to\n",
      "[nltk_data]    |     /Users/dan/nltk_data...\n",
      "[nltk_data]    |   Package stopwords is already up-to-date!\n",
      "[nltk_data]    | Downloading package treebank to\n",
      "[nltk_data]    |     /Users/dan/nltk_data...\n",
      "[nltk_data]    |   Package treebank is already up-to-date!\n",
      "[nltk_data]    | Downloading package twitter_samples to\n",
      "[nltk_data]    |     /Users/dan/nltk_data...\n",
      "[nltk_data]    |   Package twitter_samples is already up-to-date!\n",
      "[nltk_data]    | Downloading package omw to /Users/dan/nltk_data...\n",
      "[nltk_data]    |   Package omw is already up-to-date!\n",
      "[nltk_data]    | Downloading package wordnet to\n",
      "[nltk_data]    |     /Users/dan/nltk_data...\n",
      "[nltk_data]    |   Package wordnet is already up-to-date!\n",
      "[nltk_data]    | Downloading package wordnet_ic to\n",
      "[nltk_data]    |     /Users/dan/nltk_data...\n",
      "[nltk_data]    |   Package wordnet_ic is already up-to-date!\n",
      "[nltk_data]    | Downloading package words to /Users/dan/nltk_data...\n",
      "[nltk_data]    |   Package words is already up-to-date!\n",
      "[nltk_data]    | Downloading package maxent_ne_chunker to\n",
      "[nltk_data]    |     /Users/dan/nltk_data...\n",
      "[nltk_data]    |   Package maxent_ne_chunker is already up-to-date!\n",
      "[nltk_data]    | Downloading package punkt to /Users/dan/nltk_data...\n",
      "[nltk_data]    |   Package punkt is already up-to-date!\n",
      "[nltk_data]    | Downloading package snowball_data to\n",
      "[nltk_data]    |     /Users/dan/nltk_data...\n",
      "[nltk_data]    |   Package snowball_data is already up-to-date!\n",
      "[nltk_data]    | Downloading package averaged_perceptron_tagger to\n",
      "[nltk_data]    |     /Users/dan/nltk_data...\n",
      "[nltk_data]    |   Package averaged_perceptron_tagger is already up-\n",
      "[nltk_data]    |       to-date!\n",
      "[nltk_data]    | \n",
      "[nltk_data]  Done downloading collection popular\n"
     ]
    }
   ],
   "source": [
    "import numpy as np\n",
    "import pandas as pd\n",
    "import datetime\n",
    "import nltk; nltk.download('popular')\n",
    "from collections import defaultdict\n",
    "import matplotlib.pyplot as plt\n",
    "plt.close('all')"
   ]
  },
  {
   "cell_type": "code",
   "execution_count": 22,
   "metadata": {},
   "outputs": [],
   "source": [
    "dem_df = pd.read_csv(\"../Democrats/data/dem_data/dem_status_data_former.csv\")\n",
    "rep_df = pd.read_csv(\"../Republicans/data/rep_data/rep_status_data_former.csv\")"
   ]
  },
  {
   "cell_type": "code",
   "execution_count": 23,
   "metadata": {},
   "outputs": [
    {
     "data": {
      "text/html": [
       "<div>\n",
       "<style scoped>\n",
       "    .dataframe tbody tr th:only-of-type {\n",
       "        vertical-align: middle;\n",
       "    }\n",
       "\n",
       "    .dataframe tbody tr th {\n",
       "        vertical-align: top;\n",
       "    }\n",
       "\n",
       "    .dataframe thead th {\n",
       "        text-align: right;\n",
       "    }\n",
       "</style>\n",
       "<table border=\"1\" class=\"dataframe\">\n",
       "  <thead>\n",
       "    <tr style=\"text-align: right;\">\n",
       "      <th></th>\n",
       "      <th>user_name</th>\n",
       "      <th>status</th>\n",
       "      <th>datetime</th>\n",
       "    </tr>\n",
       "  </thead>\n",
       "  <tbody>\n",
       "    <tr>\n",
       "      <th>0</th>\n",
       "      <td>Sen. Maggie Hassan</td>\n",
       "      <td>On the anniversary of the Pulse shooting we sh...</td>\n",
       "      <td>2020-06-12 18:18:08.419898</td>\n",
       "    </tr>\n",
       "    <tr>\n",
       "      <th>1</th>\n",
       "      <td>Jeanne Shaheen</td>\n",
       "      <td>The Portsmouth Naval Shipyard was founded 220 ...</td>\n",
       "      <td>2020-06-12 18:21:53.899517</td>\n",
       "    </tr>\n",
       "    <tr>\n",
       "      <th>2</th>\n",
       "      <td>Ed Markey</td>\n",
       "      <td>Trans rights are human rights and Donald Trump...</td>\n",
       "      <td>2020-06-12 18:52:04.348422</td>\n",
       "    </tr>\n",
       "    <tr>\n",
       "      <th>3</th>\n",
       "      <td>Tammy Duckworth</td>\n",
       "      <td>For over a century, when our nation has asked ...</td>\n",
       "      <td>2020-06-12 18:54:17.823207</td>\n",
       "    </tr>\n",
       "    <tr>\n",
       "      <th>4</th>\n",
       "      <td>Kyrsten Sinema</td>\n",
       "      <td>Arizonans: @AZStateBar offers a hotline for le...</td>\n",
       "      <td>2020-06-12 19:00:06.251557</td>\n",
       "    </tr>\n",
       "    <tr>\n",
       "      <th>...</th>\n",
       "      <td>...</td>\n",
       "      <td>...</td>\n",
       "      <td>...</td>\n",
       "    </tr>\n",
       "    <tr>\n",
       "      <th>1208</th>\n",
       "      <td>Senator Jon Tester</td>\n",
       "      <td>#PrideMonth is a time to celebrate the immense...</td>\n",
       "      <td>2020-06-22 14:41:20.066319</td>\n",
       "    </tr>\n",
       "    <tr>\n",
       "      <th>1209</th>\n",
       "      <td>Senator Dick Durbin</td>\n",
       "      <td>With Pres. Trump still threatening to end #DAC...</td>\n",
       "      <td>2020-06-22 14:48:04.706028</td>\n",
       "    </tr>\n",
       "    <tr>\n",
       "      <th>1210</th>\n",
       "      <td>Senator Bob Casey</td>\n",
       "      <td>Last week’s #SCOTUS ruling rejecting President...</td>\n",
       "      <td>2020-06-22 14:48:36.696094</td>\n",
       "    </tr>\n",
       "    <tr>\n",
       "      <th>1211</th>\n",
       "      <td>Elizabeth Warren</td>\n",
       "      <td>After Hurricane Maria devastated Puerto Rico, ...</td>\n",
       "      <td>2020-06-22 15:02:46.738707</td>\n",
       "    </tr>\n",
       "    <tr>\n",
       "      <th>1212</th>\n",
       "      <td>Senator Dianne Feinstein</td>\n",
       "      <td>Oil companies have abandoned millions of oil w...</td>\n",
       "      <td>2020-06-22 15:04:06.735542</td>\n",
       "    </tr>\n",
       "  </tbody>\n",
       "</table>\n",
       "<p>1213 rows × 3 columns</p>\n",
       "</div>"
      ],
      "text/plain": [
       "                     user_name  \\\n",
       "0           Sen. Maggie Hassan   \n",
       "1               Jeanne Shaheen   \n",
       "2                    Ed Markey   \n",
       "3              Tammy Duckworth   \n",
       "4               Kyrsten Sinema   \n",
       "...                        ...   \n",
       "1208        Senator Jon Tester   \n",
       "1209       Senator Dick Durbin   \n",
       "1210         Senator Bob Casey   \n",
       "1211          Elizabeth Warren   \n",
       "1212  Senator Dianne Feinstein   \n",
       "\n",
       "                                                 status  \\\n",
       "0     On the anniversary of the Pulse shooting we sh...   \n",
       "1     The Portsmouth Naval Shipyard was founded 220 ...   \n",
       "2     Trans rights are human rights and Donald Trump...   \n",
       "3     For over a century, when our nation has asked ...   \n",
       "4     Arizonans: @AZStateBar offers a hotline for le...   \n",
       "...                                                 ...   \n",
       "1208  #PrideMonth is a time to celebrate the immense...   \n",
       "1209  With Pres. Trump still threatening to end #DAC...   \n",
       "1210  Last week’s #SCOTUS ruling rejecting President...   \n",
       "1211  After Hurricane Maria devastated Puerto Rico, ...   \n",
       "1212  Oil companies have abandoned millions of oil w...   \n",
       "\n",
       "                        datetime  \n",
       "0     2020-06-12 18:18:08.419898  \n",
       "1     2020-06-12 18:21:53.899517  \n",
       "2     2020-06-12 18:52:04.348422  \n",
       "3     2020-06-12 18:54:17.823207  \n",
       "4     2020-06-12 19:00:06.251557  \n",
       "...                          ...  \n",
       "1208  2020-06-22 14:41:20.066319  \n",
       "1209  2020-06-22 14:48:04.706028  \n",
       "1210  2020-06-22 14:48:36.696094  \n",
       "1211  2020-06-22 15:02:46.738707  \n",
       "1212  2020-06-22 15:04:06.735542  \n",
       "\n",
       "[1213 rows x 3 columns]"
      ]
     },
     "execution_count": 23,
     "metadata": {},
     "output_type": "execute_result"
    }
   ],
   "source": [
    "dem_df"
   ]
  },
  {
   "cell_type": "code",
   "execution_count": 24,
   "metadata": {},
   "outputs": [
    {
     "data": {
      "text/html": [
       "<div>\n",
       "<style scoped>\n",
       "    .dataframe tbody tr th:only-of-type {\n",
       "        vertical-align: middle;\n",
       "    }\n",
       "\n",
       "    .dataframe tbody tr th {\n",
       "        vertical-align: top;\n",
       "    }\n",
       "\n",
       "    .dataframe thead th {\n",
       "        text-align: right;\n",
       "    }\n",
       "</style>\n",
       "<table border=\"1\" class=\"dataframe\">\n",
       "  <thead>\n",
       "    <tr style=\"text-align: right;\">\n",
       "      <th></th>\n",
       "      <th>user_name</th>\n",
       "      <th>status</th>\n",
       "      <th>datetime</th>\n",
       "    </tr>\n",
       "  </thead>\n",
       "  <tbody>\n",
       "    <tr>\n",
       "      <th>0</th>\n",
       "      <td>Ted Cruz</td>\n",
       "      <td>Pelosi calls for removing racist Democrats fro...</td>\n",
       "      <td>2020-06-12 18:15:28.971144</td>\n",
       "    </tr>\n",
       "    <tr>\n",
       "      <th>1</th>\n",
       "      <td>Marco Rubio</td>\n",
       "      <td>Today we sent a bipartisan list of questions t...</td>\n",
       "      <td>2020-06-12 18:37:02.087157</td>\n",
       "    </tr>\n",
       "    <tr>\n",
       "      <th>2</th>\n",
       "      <td>Sen. Marsha Blackburn</td>\n",
       "      <td>Chinese sweatshops and Communist blood money a...</td>\n",
       "      <td>2020-06-12 18:37:17.812156</td>\n",
       "    </tr>\n",
       "    <tr>\n",
       "      <th>3</th>\n",
       "      <td>Marco Rubio</td>\n",
       "      <td>Just FYI this headline is 100% false &amp;amp; art...</td>\n",
       "      <td>2020-06-12 19:05:33.737982</td>\n",
       "    </tr>\n",
       "    <tr>\n",
       "      <th>4</th>\n",
       "      <td>Cindy Hyde-Smith</td>\n",
       "      <td>Today we honor the millions of women who have ...</td>\n",
       "      <td>2020-06-12 19:15:05.426970</td>\n",
       "    </tr>\n",
       "    <tr>\n",
       "      <th>...</th>\n",
       "      <td>...</td>\n",
       "      <td>...</td>\n",
       "      <td>...</td>\n",
       "    </tr>\n",
       "    <tr>\n",
       "      <th>957</th>\n",
       "      <td>ChuckGrassley</td>\n",
       "      <td>Q&amp;amp;A w Council Bluffs Area Chamber of Comme...</td>\n",
       "      <td>2020-06-22 14:54:19.441036</td>\n",
       "    </tr>\n",
       "    <tr>\n",
       "      <th>958</th>\n",
       "      <td>Joni Ernst</td>\n",
       "      <td>Congrats to the 19th Chief Master Sergeant of ...</td>\n",
       "      <td>2020-06-22 14:54:32.174205</td>\n",
       "    </tr>\n",
       "    <tr>\n",
       "      <th>959</th>\n",
       "      <td>Thom Tillis</td>\n",
       "      <td>Thanks to our Small Business Advisory Council,...</td>\n",
       "      <td>2020-06-22 15:01:04.687951</td>\n",
       "    </tr>\n",
       "    <tr>\n",
       "      <th>960</th>\n",
       "      <td>Cory Gardner</td>\n",
       "      <td>More than 70% of land in Mesa County is owned ...</td>\n",
       "      <td>2020-06-22 15:02:48.873367</td>\n",
       "    </tr>\n",
       "    <tr>\n",
       "      <th>961</th>\n",
       "      <td>Senator Todd Young</td>\n",
       "      <td>#ICYMI: Last week the Senate unanimously passe...</td>\n",
       "      <td>2020-06-22 15:08:23.356760</td>\n",
       "    </tr>\n",
       "  </tbody>\n",
       "</table>\n",
       "<p>962 rows × 3 columns</p>\n",
       "</div>"
      ],
      "text/plain": [
       "                 user_name                                             status  \\\n",
       "0                 Ted Cruz  Pelosi calls for removing racist Democrats fro...   \n",
       "1              Marco Rubio  Today we sent a bipartisan list of questions t...   \n",
       "2    Sen. Marsha Blackburn  Chinese sweatshops and Communist blood money a...   \n",
       "3              Marco Rubio  Just FYI this headline is 100% false &amp; art...   \n",
       "4         Cindy Hyde-Smith  Today we honor the millions of women who have ...   \n",
       "..                     ...                                                ...   \n",
       "957          ChuckGrassley  Q&amp;A w Council Bluffs Area Chamber of Comme...   \n",
       "958             Joni Ernst  Congrats to the 19th Chief Master Sergeant of ...   \n",
       "959            Thom Tillis  Thanks to our Small Business Advisory Council,...   \n",
       "960           Cory Gardner  More than 70% of land in Mesa County is owned ...   \n",
       "961     Senator Todd Young  #ICYMI: Last week the Senate unanimously passe...   \n",
       "\n",
       "                       datetime  \n",
       "0    2020-06-12 18:15:28.971144  \n",
       "1    2020-06-12 18:37:02.087157  \n",
       "2    2020-06-12 18:37:17.812156  \n",
       "3    2020-06-12 19:05:33.737982  \n",
       "4    2020-06-12 19:15:05.426970  \n",
       "..                          ...  \n",
       "957  2020-06-22 14:54:19.441036  \n",
       "958  2020-06-22 14:54:32.174205  \n",
       "959  2020-06-22 15:01:04.687951  \n",
       "960  2020-06-22 15:02:48.873367  \n",
       "961  2020-06-22 15:08:23.356760  \n",
       "\n",
       "[962 rows x 3 columns]"
      ]
     },
     "execution_count": 24,
     "metadata": {},
     "output_type": "execute_result"
    }
   ],
   "source": [
    "rep_df"
   ]
  },
  {
   "cell_type": "code",
   "execution_count": 25,
   "metadata": {},
   "outputs": [
    {
     "name": "stdout",
     "output_type": "stream",
     "text": [
      "[0, 5, 6, 6, 7, 7, 7, 8, 8, 8, 8, 8, 8, 9, 9, 9, 9, 9, 9, 9, 9, 9, 9, 9, 9, 9, 10, 10, 10, 10, 10, 10, 10, 10, 10, 10, 10, 10, 10, 10, 10, 11, 11, 11, 11, 11, 11, 11, 12, 12, 12, 12, 12, 12, 12, 12, 12, 12, 12, 12, 12, 12, 12, 12, 13, 13, 13, 13, 13, 13, 13, 13, 13, 14, 14, 14, 14, 14, 14, 14, 14, 14, 14, 15, 15, 15, 15, 15, 15, 15, 15, 15, 15, 15, 15, 15, 15, 15, 15, 15, 15, 16, 16, 16, 16, 16, 16, 16, 16, 16, 16, 16, 17, 17, 17, 17, 17, 17, 17, 17, 17, 17, 17, 17, 17, 17, 18, 18, 18, 18, 18, 18, 18, 18, 19, 19, 19, 19, 19, 19, 20, 22, 23]\n"
     ]
    }
   ],
   "source": [
    "rep_date_list = []\n",
    "for i in range(len(rep_df['datetime'])):\n",
    "    if datetime.datetime.strptime(rep_df['datetime'].iloc[i], \"%Y-%m-%d %H:%M:%S.%f\").day == 18:\n",
    "        rep_date_list.append(datetime.datetime.strptime(rep_df['datetime'].iloc[i], \"%Y-%m-%d %H:%M:%S.%f\").hour)\n",
    "\n",
    "print(rep_date_list)"
   ]
  },
  {
   "cell_type": "code",
   "execution_count": 26,
   "metadata": {},
   "outputs": [
    {
     "name": "stdout",
     "output_type": "stream",
     "text": [
      "[0, 8, 8, 8, 9, 9, 9, 9, 9, 9, 9, 9, 9, 9, 9, 9, 9, 9, 9, 9, 9, 9, 9, 9, 10, 10, 10, 10, 10, 10, 10, 10, 10, 10, 10, 10, 10, 10, 10, 10, 10, 10, 10, 10, 10, 10, 10, 10, 10, 10, 10, 10, 10, 11, 11, 11, 11, 11, 11, 11, 11, 11, 11, 11, 11, 11, 11, 11, 11, 11, 11, 11, 11, 12, 12, 12, 12, 12, 12, 12, 12, 12, 12, 12, 12, 12, 12, 12, 12, 13, 13, 13, 13, 13, 13, 13, 13, 13, 13, 13, 13, 13, 13, 13, 13, 13, 13, 13, 13, 13, 13, 14, 14, 14, 14, 14, 14, 14, 14, 14, 14, 14, 14, 14, 14, 15, 15, 15, 15, 15, 15, 15, 15, 15, 15, 15, 15, 16, 16, 16, 16, 16, 16, 16, 16, 16, 16, 16, 17, 17, 17, 17, 17, 17, 17, 17, 17, 17, 17, 17, 17, 17, 17, 17, 17, 17, 18, 18, 18, 18, 18, 18, 18, 18, 18, 18, 18, 18, 18, 19, 19, 19, 19, 19, 19, 19, 19, 19, 19, 20, 20, 20, 20, 20, 20, 21, 21, 21, 21]\n"
     ]
    }
   ],
   "source": [
    "dem_date_list = []\n",
    "for j in range(len(dem_df['datetime'])):\n",
    "    if datetime.datetime.strptime(dem_df['datetime'].iloc[j], \"%Y-%m-%d %H:%M:%S.%f\").day == 18: \n",
    "        dem_date_list.append(datetime.datetime.strptime(dem_df['datetime'].iloc[j], \"%Y-%m-%d %H:%M:%S.%f\").hour)\n",
    "\n",
    "print(dem_date_list)"
   ]
  },
  {
   "cell_type": "code",
   "execution_count": 27,
   "metadata": {},
   "outputs": [
    {
     "name": "stdout",
     "output_type": "stream",
     "text": [
      "0\n",
      "23\n",
      "Int64Index([1], dtype='int64')\n"
     ]
    }
   ],
   "source": [
    "current_date = datetime.datetime.now().strftime('%m-%d-%y')\n",
    "\n",
    "print(min(rep_date_list[0], dem_date_list[0]))\n",
    "print(max(rep_date_list[-1], dem_date_list[-1]))\n",
    "\n",
    "date_range = pd.date_range(start=min(rep_date_list[0], dem_date_list[0]), end=max(rep_date_list[-1], dem_date_list[-1]), freq='1H').day\n",
    "\n",
    "print(date_range)"
   ]
  },
  {
   "cell_type": "code",
   "execution_count": 28,
   "metadata": {},
   "outputs": [
    {
     "name": "stdout",
     "output_type": "stream",
     "text": [
      "[1, 1, 2, 3, 6, 13, 15, 7, 16, 9, 10, 18, 11, 14, 8, 6, 1, 1, 1]\n"
     ]
    }
   ],
   "source": [
    "# Find out how many tweets were tweeted on each day\n",
    "# For the Republicans\n",
    "temp = set(rep_date_list)\n",
    "rep_freq_list = []\n",
    "\n",
    "for x in temp:\n",
    "    rep_freq_list.append(rep_date_list.count(x))\n",
    "    \n",
    "temp = list(temp)\n",
    "print(rep_freq_list)"
   ]
  },
  {
   "cell_type": "code",
   "execution_count": 29,
   "metadata": {},
   "outputs": [
    {
     "name": "stdout",
     "output_type": "stream",
     "text": [
      "[1, 3, 20, 29, 20, 16, 22, 14, 12, 11, 18, 13, 10, 6, 4]\n"
     ]
    }
   ],
   "source": [
    "# Find out how many tweets were tweeted on each day\n",
    "# For the Democrats\n",
    "temp = set(dem_date_list)\n",
    "dem_freq_list = []\n",
    "\n",
    "for x in temp:\n",
    "    dem_freq_list.append(dem_date_list.count(x))\n",
    "    \n",
    "temp = list(temp)\n",
    "\n",
    "print(dem_freq_list)"
   ]
  },
  {
   "cell_type": "code",
   "execution_count": 30,
   "metadata": {},
   "outputs": [
    {
     "ename": "ValueError",
     "evalue": "x and y must have same first dimension, but have shapes (1,) and (5,)",
     "output_type": "error",
     "traceback": [
      "\u001b[0;31m---------------------------------------------------------------------------\u001b[0m",
      "\u001b[0;31mValueError\u001b[0m                                Traceback (most recent call last)",
      "\u001b[0;32m<ipython-input-30-9fd9141547d3>\u001b[0m in \u001b[0;36m<module>\u001b[0;34m\u001b[0m\n\u001b[1;32m      2\u001b[0m \u001b[0mrep_date_list\u001b[0m \u001b[0;34m=\u001b[0m \u001b[0mnp\u001b[0m\u001b[0;34m.\u001b[0m\u001b[0marray\u001b[0m\u001b[0;34m(\u001b[0m\u001b[0mrep_date_list\u001b[0m\u001b[0;34m)\u001b[0m\u001b[0;34m\u001b[0m\u001b[0;34m\u001b[0m\u001b[0m\n\u001b[1;32m      3\u001b[0m \u001b[0;34m\u001b[0m\u001b[0m\n\u001b[0;32m----> 4\u001b[0;31m \u001b[0mplt\u001b[0m\u001b[0;34m.\u001b[0m\u001b[0mplot\u001b[0m\u001b[0;34m(\u001b[0m\u001b[0mdate_range\u001b[0m\u001b[0;34m,\u001b[0m \u001b[0mrep_freq_list\u001b[0m\u001b[0;34m[\u001b[0m\u001b[0;34m:\u001b[0m\u001b[0;36m5\u001b[0m\u001b[0;34m]\u001b[0m\u001b[0;34m,\u001b[0m \u001b[0mlabel\u001b[0m\u001b[0;34m=\u001b[0m\u001b[0;34m\"Republican\"\u001b[0m\u001b[0;34m,\u001b[0m \u001b[0mcolor\u001b[0m\u001b[0;34m=\u001b[0m\u001b[0;34m'r'\u001b[0m\u001b[0;34m)\u001b[0m\u001b[0;34m\u001b[0m\u001b[0;34m\u001b[0m\u001b[0m\n\u001b[0m\u001b[1;32m      5\u001b[0m \u001b[0mplt\u001b[0m\u001b[0;34m.\u001b[0m\u001b[0mplot\u001b[0m\u001b[0;34m(\u001b[0m\u001b[0mdate_range\u001b[0m\u001b[0;34m,\u001b[0m \u001b[0mdem_freq_list\u001b[0m\u001b[0;34m[\u001b[0m\u001b[0;34m:\u001b[0m\u001b[0;36m5\u001b[0m\u001b[0;34m]\u001b[0m\u001b[0;34m,\u001b[0m \u001b[0mlabel\u001b[0m\u001b[0;34m=\u001b[0m\u001b[0;34m\"Democrat\"\u001b[0m\u001b[0;34m,\u001b[0m \u001b[0mcolor\u001b[0m\u001b[0;34m=\u001b[0m\u001b[0;34m'b'\u001b[0m\u001b[0;34m)\u001b[0m\u001b[0;34m\u001b[0m\u001b[0;34m\u001b[0m\u001b[0m\n\u001b[1;32m      6\u001b[0m \u001b[0mplt\u001b[0m\u001b[0;34m.\u001b[0m\u001b[0mlegend\u001b[0m\u001b[0;34m(\u001b[0m\u001b[0mloc\u001b[0m\u001b[0;34m=\u001b[0m\u001b[0;34m\"upper left\"\u001b[0m\u001b[0;34m)\u001b[0m\u001b[0;34m\u001b[0m\u001b[0;34m\u001b[0m\u001b[0m\n",
      "\u001b[0;32m/usr/local/lib/python3.7/site-packages/matplotlib/pyplot.py\u001b[0m in \u001b[0;36mplot\u001b[0;34m(scalex, scaley, data, *args, **kwargs)\u001b[0m\n\u001b[1;32m   2761\u001b[0m     return gca().plot(\n\u001b[1;32m   2762\u001b[0m         *args, scalex=scalex, scaley=scaley, **({\"data\": data} if data\n\u001b[0;32m-> 2763\u001b[0;31m         is not None else {}), **kwargs)\n\u001b[0m\u001b[1;32m   2764\u001b[0m \u001b[0;34m\u001b[0m\u001b[0m\n\u001b[1;32m   2765\u001b[0m \u001b[0;34m\u001b[0m\u001b[0m\n",
      "\u001b[0;32m/usr/local/lib/python3.7/site-packages/matplotlib/axes/_axes.py\u001b[0m in \u001b[0;36mplot\u001b[0;34m(self, scalex, scaley, data, *args, **kwargs)\u001b[0m\n\u001b[1;32m   1644\u001b[0m         \"\"\"\n\u001b[1;32m   1645\u001b[0m         \u001b[0mkwargs\u001b[0m \u001b[0;34m=\u001b[0m \u001b[0mcbook\u001b[0m\u001b[0;34m.\u001b[0m\u001b[0mnormalize_kwargs\u001b[0m\u001b[0;34m(\u001b[0m\u001b[0mkwargs\u001b[0m\u001b[0;34m,\u001b[0m \u001b[0mmlines\u001b[0m\u001b[0;34m.\u001b[0m\u001b[0mLine2D\u001b[0m\u001b[0;34m)\u001b[0m\u001b[0;34m\u001b[0m\u001b[0;34m\u001b[0m\u001b[0m\n\u001b[0;32m-> 1646\u001b[0;31m         \u001b[0mlines\u001b[0m \u001b[0;34m=\u001b[0m \u001b[0;34m[\u001b[0m\u001b[0;34m*\u001b[0m\u001b[0mself\u001b[0m\u001b[0;34m.\u001b[0m\u001b[0m_get_lines\u001b[0m\u001b[0;34m(\u001b[0m\u001b[0;34m*\u001b[0m\u001b[0margs\u001b[0m\u001b[0;34m,\u001b[0m \u001b[0mdata\u001b[0m\u001b[0;34m=\u001b[0m\u001b[0mdata\u001b[0m\u001b[0;34m,\u001b[0m \u001b[0;34m**\u001b[0m\u001b[0mkwargs\u001b[0m\u001b[0;34m)\u001b[0m\u001b[0;34m]\u001b[0m\u001b[0;34m\u001b[0m\u001b[0;34m\u001b[0m\u001b[0m\n\u001b[0m\u001b[1;32m   1647\u001b[0m         \u001b[0;32mfor\u001b[0m \u001b[0mline\u001b[0m \u001b[0;32min\u001b[0m \u001b[0mlines\u001b[0m\u001b[0;34m:\u001b[0m\u001b[0;34m\u001b[0m\u001b[0;34m\u001b[0m\u001b[0m\n\u001b[1;32m   1648\u001b[0m             \u001b[0mself\u001b[0m\u001b[0;34m.\u001b[0m\u001b[0madd_line\u001b[0m\u001b[0;34m(\u001b[0m\u001b[0mline\u001b[0m\u001b[0;34m)\u001b[0m\u001b[0;34m\u001b[0m\u001b[0;34m\u001b[0m\u001b[0m\n",
      "\u001b[0;32m/usr/local/lib/python3.7/site-packages/matplotlib/axes/_base.py\u001b[0m in \u001b[0;36m__call__\u001b[0;34m(self, *args, **kwargs)\u001b[0m\n\u001b[1;32m    214\u001b[0m                 \u001b[0mthis\u001b[0m \u001b[0;34m+=\u001b[0m \u001b[0margs\u001b[0m\u001b[0;34m[\u001b[0m\u001b[0;36m0\u001b[0m\u001b[0;34m]\u001b[0m\u001b[0;34m,\u001b[0m\u001b[0;34m\u001b[0m\u001b[0;34m\u001b[0m\u001b[0m\n\u001b[1;32m    215\u001b[0m                 \u001b[0margs\u001b[0m \u001b[0;34m=\u001b[0m \u001b[0margs\u001b[0m\u001b[0;34m[\u001b[0m\u001b[0;36m1\u001b[0m\u001b[0;34m:\u001b[0m\u001b[0;34m]\u001b[0m\u001b[0;34m\u001b[0m\u001b[0;34m\u001b[0m\u001b[0m\n\u001b[0;32m--> 216\u001b[0;31m             \u001b[0;32myield\u001b[0m \u001b[0;32mfrom\u001b[0m \u001b[0mself\u001b[0m\u001b[0;34m.\u001b[0m\u001b[0m_plot_args\u001b[0m\u001b[0;34m(\u001b[0m\u001b[0mthis\u001b[0m\u001b[0;34m,\u001b[0m \u001b[0mkwargs\u001b[0m\u001b[0;34m)\u001b[0m\u001b[0;34m\u001b[0m\u001b[0;34m\u001b[0m\u001b[0m\n\u001b[0m\u001b[1;32m    217\u001b[0m \u001b[0;34m\u001b[0m\u001b[0m\n\u001b[1;32m    218\u001b[0m     \u001b[0;32mdef\u001b[0m \u001b[0mget_next_color\u001b[0m\u001b[0;34m(\u001b[0m\u001b[0mself\u001b[0m\u001b[0;34m)\u001b[0m\u001b[0;34m:\u001b[0m\u001b[0;34m\u001b[0m\u001b[0;34m\u001b[0m\u001b[0m\n",
      "\u001b[0;32m/usr/local/lib/python3.7/site-packages/matplotlib/axes/_base.py\u001b[0m in \u001b[0;36m_plot_args\u001b[0;34m(self, tup, kwargs)\u001b[0m\n\u001b[1;32m    340\u001b[0m \u001b[0;34m\u001b[0m\u001b[0m\n\u001b[1;32m    341\u001b[0m         \u001b[0;32mif\u001b[0m \u001b[0mx\u001b[0m\u001b[0;34m.\u001b[0m\u001b[0mshape\u001b[0m\u001b[0;34m[\u001b[0m\u001b[0;36m0\u001b[0m\u001b[0;34m]\u001b[0m \u001b[0;34m!=\u001b[0m \u001b[0my\u001b[0m\u001b[0;34m.\u001b[0m\u001b[0mshape\u001b[0m\u001b[0;34m[\u001b[0m\u001b[0;36m0\u001b[0m\u001b[0;34m]\u001b[0m\u001b[0;34m:\u001b[0m\u001b[0;34m\u001b[0m\u001b[0;34m\u001b[0m\u001b[0m\n\u001b[0;32m--> 342\u001b[0;31m             raise ValueError(f\"x and y must have same first dimension, but \"\n\u001b[0m\u001b[1;32m    343\u001b[0m                              f\"have shapes {x.shape} and {y.shape}\")\n\u001b[1;32m    344\u001b[0m         \u001b[0;32mif\u001b[0m \u001b[0mx\u001b[0m\u001b[0;34m.\u001b[0m\u001b[0mndim\u001b[0m \u001b[0;34m>\u001b[0m \u001b[0;36m2\u001b[0m \u001b[0;32mor\u001b[0m \u001b[0my\u001b[0m\u001b[0;34m.\u001b[0m\u001b[0mndim\u001b[0m \u001b[0;34m>\u001b[0m \u001b[0;36m2\u001b[0m\u001b[0;34m:\u001b[0m\u001b[0;34m\u001b[0m\u001b[0;34m\u001b[0m\u001b[0m\n",
      "\u001b[0;31mValueError\u001b[0m: x and y must have same first dimension, but have shapes (1,) and (5,)"
     ]
    },
    {
     "data": {
      "image/png": "[encoded data removed]",
      "text/plain": [
       "<Figure size 432x288 with 1 Axes>"
      ]
     },
     "metadata": {
      "needs_background": "light"
     },
     "output_type": "display_data"
    }
   ],
   "source": [
    "dem_date_list = np.array(dem_date_list)\n",
    "rep_date_list = np.array(rep_date_list)\n",
    "\n",
    "plt.plot(date_range, rep_freq_list[:5], label=\"Republican\", color='r')\n",
    "plt.plot(date_range, dem_freq_list[:5], label=\"Democrat\", color='b')\n",
    "plt.legend(loc=\"upper left\")\n",
    "plt.xlabel(\"Dates\")\n",
    "plt.ylabel(\"Number of Tweets\")\n",
    "plt.show()"
   ]
  },
  {
   "cell_type": "code",
   "execution_count": 31,
   "metadata": {},
   "outputs": [],
   "source": [
    "# parse user names out of the dataframe\n",
    "\n",
    "dem_name_list = []\n",
    "rep_name_list = []\n",
    "\n",
    "for name in dem_df['user_name']:\n",
    "    dem_name_list.append(str(name))\n",
    "    \n",
    "for name in rep_df['user_name']:\n",
    "    rep_name_list.append(str(name))\n"
   ]
  },
  {
   "cell_type": "code",
   "execution_count": 32,
   "metadata": {},
   "outputs": [],
   "source": [
    "dem_names = set(dem_df['user_name'])\n",
    "rep_names = set(rep_df['user_name'])\n",
    "\n",
    "\n",
    "all_name_count = {}\n",
    "\n",
    "for name in dem_names:\n",
    "    all_name_count[name] = dem_name_list.count(name)\n",
    "    \n",
    "for name in rep_names:\n",
    "    all_name_count[name] = rep_name_list.count(name)\n",
    "\n",
    "\n",
    "all_name_count = sorted(all_name_count.items(), key=lambda x: x[1], reverse=True)\n"
   ]
  },
  {
   "cell_type": "code",
   "execution_count": 33,
   "metadata": {},
   "outputs": [
    {
     "data": {
      "image/png": "[encoded data removed]",
      "text/plain": [
       "<Figure size 1080x360 with 1 Axes>"
      ]
     },
     "metadata": {
      "needs_background": "light"
     },
     "output_type": "display_data"
    }
   ],
   "source": [
    "fig = plt.figure(figsize=(15,5))\n",
    "\n",
    "for x in all_name_count:\n",
    "    if x[0] in dem_name_list:\n",
    "        plt.bar(x[0], x[1], color=('b'))\n",
    "    elif x[0] in rep_name_list:\n",
    "        plt.bar(x[0], x[1], color=('r'))\n",
    "\n",
    "\n",
    "plt.xticks(rotation='vertical', fontsize=10)\n",
    "plt.ylabel(\"Number of Tweets\")\n",
    "plt.show()"
   ]
  },
  {
   "cell_type": "code",
   "execution_count": 34,
   "metadata": {},
   "outputs": [
    {
     "data": {
      "image/png": "[encoded data removed]",
      "text/plain": [
       "<Figure size 360x360 with 1 Axes>"
      ]
     },
     "metadata": {
      "needs_background": "light"
     },
     "output_type": "display_data"
    }
   ],
   "source": [
    "fig = plt.figure(figsize=(5,5))\n",
    "\n",
    "for x in all_name_count[:10]:\n",
    "    if x[0] in dem_name_list:\n",
    "        plt.bar(x[0], x[1], color=('b'))\n",
    "    elif x[0] in rep_name_list:\n",
    "        plt.bar(x[0], x[1], color=('r'))\n",
    "\n",
    "\n",
    "plt.xticks(rotation='vertical')\n",
    "plt.ylabel(\"Number of Tweets\")\n",
    "plt.show()"
   ]
  },
  {
   "cell_type": "code",
   "execution_count": 35,
   "metadata": {},
   "outputs": [
    {
     "data": {
      "image/png": "[encoded data removed]",
      "text/plain": [
       "<Figure size 432x288 with 1 Axes>"
      ]
     },
     "metadata": {
      "needs_background": "light"
     },
     "output_type": "display_data"
    }
   ],
   "source": [
    "# Get statuses from dataframe in string form.\n",
    "\n",
    "status_list = []\n",
    "status_dict = {}\n",
    "\n",
    "for status in dem_df['status']:\n",
    "    for word in status.split():\n",
    "        token = nltk.word_tokenize(word)\n",
    "        tagged = nltk.pos_tag(token)\n",
    "        if tagged[0][1][0] == 'N':\n",
    "            status_list.append(word.lower())\n",
    "     \n",
    "        \n",
    "set_status_list = set(status_list)\n",
    "\n",
    "for word in set_status_list:\n",
    "    status_dict[word] = status_list.count(word)\n",
    "    \n",
    "status_dict = sorted(status_dict.items(), key=lambda x: x[1], reverse=True)\n",
    "table_list = []\n",
    "\n",
    "for tup in status_dict[:10]:\n",
    "    tup = list(tup)\n",
    "    tup[1] = str(tup[1])\n",
    "    table_list.append(tup)\n",
    "    \n",
    "plt.table(table_list, loc='top')\n",
    "plt.show()\n"
   ]
  },
  {
   "cell_type": "code",
   "execution_count": 36,
   "metadata": {},
   "outputs": [
    {
     "name": "stdout",
     "output_type": "stream",
     "text": [
      "('senate', 82)\n",
      "('help', 81)\n",
      "('act', 67)\n",
      "('police', 65)\n",
      "('work', 63)\n",
      "('today', 58)\n",
      "('support', 57)\n",
      "('legislation', 53)\n",
      "('great', 50)\n",
      "('day', 47)\n"
     ]
    }
   ],
   "source": [
    "status_list = []\n",
    "status_dict = {}\n",
    "\n",
    "for status in rep_df['status']:\n",
    "    for word in status.split():\n",
    "        token = nltk.word_tokenize(word)\n",
    "        tagged = nltk.pos_tag(token)\n",
    "        if tagged[0][1][0] == 'N':\n",
    "            status_list.append(word.lower())\n",
    "     \n",
    "        \n",
    "set_status_list = set(status_list)\n",
    "\n",
    "for word in set_status_list:\n",
    "    status_dict[word] = status_list.count(word)\n",
    "    \n",
    "status_dict = sorted(status_dict.items(), key=lambda x: x[1], reverse=True)\n",
    "\n",
    "for tup in status_dict[:10]:\n",
    "    print(tup)\n",
    "\n"
   ]
  },
  {
   "cell_type": "code",
   "execution_count": null,
   "metadata": {},
   "outputs": [],
   "source": []
  },
  {
   "cell_type": "code",
   "execution_count": null,
   "metadata": {},
   "outputs": [],
   "source": []
  },
  {
   "cell_type": "code",
   "execution_count": null,
   "metadata": {},
   "outputs": [],
   "source": []
  }
 ],
 "metadata": {
  "kernelspec": {
   "display_name": "Python 3",
   "language": "python",
   "name": "python3"
  },
  "language_info": {
   "codemirror_mode": {
    "name": "ipython",
    "version": 3
   },
   "file_extension": ".py",
   "mimetype": "text/x-python",
   "name": "python",
   "nbconvert_exporter": "python",
   "pygments_lexer": "ipython3",
   "version": "3.7.6"
  }
 },
 "nbformat": 4,
 "nbformat_minor": 4
}
